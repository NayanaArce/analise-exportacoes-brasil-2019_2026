{
  "nbformat": 4,
  "nbformat_minor": 0,
  "metadata": {
    "colab": {
      "provenance": []
    },
    "kernelspec": {
      "name": "python3",
      "display_name": "Python 3"
    },
    "language_info": {
      "name": "python"
    }
  },
  "cells": [
    {
      "cell_type": "markdown",
      "source": [
        "PROJETO: ANÁLISE EXPLORATÓRIA DE DADOS (EDA) COM MACHINE LEARNING\n",
        "Análise de Exportação com Previsões para 2026"
      ],
      "metadata": {
        "id": "z9jQo19_zfZJ"
      }
    },
    {
      "cell_type": "code",
      "source": [
        "import pandas as pd\n",
        "import numpy as np\n",
        "from sklearn.model_selection import train_test_split, cross_val_score\n",
        "from sklearn.ensemble import RandomForestRegressor, GradientBoostingRegressor\n",
        "from sklearn.linear_model import LinearRegression\n",
        "from sklearn.preprocessing import StandardScaler, LabelEncoder\n",
        "from sklearn.metrics import mean_absolute_error, mean_squared_error, r2_score\n",
        "from sklearn.tree import DecisionTreeRegressor\n",
        "import warnings\n",
        "warnings.filterwarnings('ignore')"
      ],
      "metadata": {
        "id": "uK_nZOlYzh-c"
      },
      "execution_count": 32,
      "outputs": []
    },
    {
      "cell_type": "code",
      "source": [
        "# 1. LIMPEZA E PRÉ-PROCESSAMENTO DE DADOS\n",
        "# Carregar dados\n",
        "df_exportacao = pd.read_csv(\"V_EXPORTACAO_GERAL_2019-01_2024-12_DT20250428 (2).csv.csv\")"
      ],
      "metadata": {
        "id": "GtNRi1bFzoYL"
      },
      "execution_count": 33,
      "outputs": []
    },
    {
      "cell_type": "code",
      "source": [
        "# Limpeza básica\n",
        "df_limpo = df_exportacao.copy()\n",
        "df_limpo = df_limpo.dropna().drop_duplicates()"
      ],
      "metadata": {
        "id": "9zQdnN9wz8oT"
      },
      "execution_count": 34,
      "outputs": []
    },
    {
      "cell_type": "code",
      "source": [
        "# Padronização de Nomes e Colunas\n",
        "df_limpo.rename(columns={\n",
        "    \"Países\": \"Pais\",\n",
        "    \"Valor US$ FOB\": \"Valor_USD\",\n",
        "    \"Quilograma Líquido\": \"Peso_kg\",\n",
        "    \"Descrição SH2\": \"Produto\"\n",
        "}, inplace=True)"
      ],
      "metadata": {
        "id": "F2hNoEa50Jz1"
      },
      "execution_count": 35,
      "outputs": []
    },
    {
      "cell_type": "code",
      "source": [
        "# Limpeza e conversão de tipos\n",
        "df_limpo[\"Ano\"] = df_limpo[\"Ano\"].astype(int)\n",
        "df_limpo[\"Valor_USD\"] = pd.to_numeric(df_limpo[\"Valor_USD\"], errors='coerce')\n",
        "df_limpo[\"Peso_kg\"] = pd.to_numeric(df_limpo[\"Peso_kg\"], errors='coerce')\n",
        "df_limpo[\"Pais\"] = df_limpo[\"Pais\"].astype(str).str.strip().str.replace(r\"[\\n\\r\\t]\", \"\", regex=True)\n",
        "df_limpo[\"Produto\"] = df_limpo[\"Produto\"].astype(str).str.strip().str.replace(r\"[\\n\\r\\t]\", \"\", regex=True)"
      ],
      "metadata": {
        "id": "AsccfbeM0YLn"
      },
      "execution_count": 36,
      "outputs": []
    },
    {
      "cell_type": "code",
      "source": [
        "# Dataframe final limpo\n",
        "df = df_limpo[[\"Ano\", \"Pais\", \"Produto\", \"Valor_USD\", \"Peso_kg\"]].dropna()"
      ],
      "metadata": {
        "id": "DT_aUy562Wba"
      },
      "execution_count": 37,
      "outputs": []
    },
    {
      "cell_type": "code",
      "source": [
        "print(f\"Dados após limpeza: {len(df)} registros\")\n",
        "print(f\"Período: {df['Ano'].min()} - {df['Ano'].max()}\")\n",
        "print(f\"Países únicos: {df['Pais'].nunique()}\")\n",
        "print(f\"Produtos únicos: {df['Produto'].nunique()}\")"
      ],
      "metadata": {
        "colab": {
          "base_uri": "https://localhost:8080/"
        },
        "id": "bJO38Tae2qy5",
        "outputId": "b7d8e1b3-4124-4bb6-f203-15be39fd880b",
        "collapsed": true
      },
      "execution_count": 38,
      "outputs": [
        {
          "output_type": "stream",
          "name": "stdout",
          "text": [
            "Dados após limpeza: 5566 registros\n",
            "Período: 2019 - 2024\n",
            "Países únicos: 10\n",
            "Produtos únicos: 97\n"
          ]
        }
      ]
    },
    {
      "cell_type": "code",
      "source": [
        "# 2. ANÁLISE DESCRITIVA DOS DADOS\n",
        "print(\"   ESTATÍSTICAS DE VALOR (US$ FOB):\")\n",
        "print(f\"   Valor total: US$ {df['Valor_USD'].sum():,.0f}\")\n",
        "print(f\"   Valor médio: US$ {df['Valor_USD'].mean():,.0f}\")\n",
        "print(f\"   Valor mediano: US$ {df['Valor_USD'].median():,.0f}\")\n",
        "print(f\"   Desvio padrão: US$ {df['Valor_USD'].std():,.0f}\")\n",
        "\n",
        "print(\"\\n  ESTATÍSTICAS DE PESO:\")\n",
        "print(f\"   Peso total: {df['Peso_kg'].sum():,.0f} kg\")\n",
        "print(f\"   Peso médio: {df['Peso_kg'].mean():,.0f} kg\")"
      ],
      "metadata": {
        "colab": {
          "base_uri": "https://localhost:8080/"
        },
        "id": "J0hAAblU2005",
        "outputId": "4a4a262c-a18a-4d92-fca8-0258f38dde10",
        "collapsed": true
      },
      "execution_count": 39,
      "outputs": [
        {
          "output_type": "stream",
          "name": "stdout",
          "text": [
            "   ESTATÍSTICAS DE VALOR (US$ FOB):\n",
            "   Valor total: US$ 1,053,349,216,026\n",
            "   Valor médio: US$ 189,247,074\n",
            "   Valor mediano: US$ 5,437,202\n",
            "   Desvio padrão: US$ 1,386,377,793\n",
            "\n",
            "  ESTATÍSTICAS DE PESO:\n",
            "   Peso total: 2,998,941,989,338 kg\n",
            "   Peso médio: 538,796,620 kg\n"
          ]
        }
      ]
    },
    {
      "cell_type": "code",
      "source": [
        "# Análise temporal\n",
        "print(\"\\n EVOLUÇÃO TEMPORAL:\")\n",
        "evolucao_anual = df.groupby('Ano')['Valor_USD'].sum()\n",
        "for ano in sorted(df['Ano'].unique()):\n",
        "    valor = evolucao_anual[ano]\n",
        "    if ano > df['Ano'].min():\n",
        "        crescimento = ((valor - evolucao_anual[ano-1]) / evolucao_anual[ano-1]) * 100\n",
        "        print(f\"   {ano}: US$ {valor:,.0f} ({crescimento:+.1f}%)\")\n",
        "    else:\n",
        "        print(f\"   {ano}: US$ {valor:,.0f}\")"
      ],
      "metadata": {
        "colab": {
          "base_uri": "https://localhost:8080/"
        },
        "id": "exaZ7FcQ3GPI",
        "outputId": "79ad068d-05f7-4beb-bdb9-f82d9f696416",
        "collapsed": true
      },
      "execution_count": 40,
      "outputs": [
        {
          "output_type": "stream",
          "name": "stdout",
          "text": [
            "\n",
            " EVOLUÇÃO TEMPORAL:\n",
            "   2019: US$ 137,672,885,891\n",
            "   2020: US$ 128,669,898,513 (-6.5%)\n",
            "   2021: US$ 173,764,493,491 (+35.0%)\n",
            "   2022: US$ 198,316,801,044 (+14.1%)\n",
            "   2023: US$ 212,515,398,380 (+7.2%)\n",
            "   2024: US$ 202,409,738,707 (-4.8%)\n"
          ]
        }
      ]
    },
    {
      "cell_type": "code",
      "source": [
        "# Top análises para EDA\n",
        "print(\"\\n TOP 10 PAÍSES (VALOR TOTAL 2019-2024):\")\n",
        "top_paises_historico = df.groupby('Pais')['Valor_USD'].sum().nlargest(10)\n",
        "for i, (pais, valor) in enumerate(top_paises_historico.items(), 1):\n",
        "    print(f\"   {i:2d}. {pais}: US$ {valor:,.0f}\")\n",
        "\n",
        "print(\"\\n TOP 10 PRODUTOS (VALOR TOTAL 2019-2024):\")\n",
        "top_produtos_historico = df.groupby('Produto')['Valor_USD'].sum().nlargest(10)\n",
        "for i, (produto, valor) in enumerate(top_produtos_historico.items(), 1):\n",
        "    produto_nome = produto[:50] + \"...\" if len(produto) > 50 else produto\n",
        "    print(f\"   {i:2d}. {produto_nome}: US$ {valor:,.0f}\")"
      ],
      "metadata": {
        "colab": {
          "base_uri": "https://localhost:8080/"
        },
        "id": "m7K8UVBv3RTn",
        "outputId": "400d0664-1b72-4d27-ee41-7af75f44ed15",
        "collapsed": true
      },
      "execution_count": 41,
      "outputs": [
        {
          "output_type": "stream",
          "name": "stdout",
          "text": [
            "\n",
            " TOP 10 PAÍSES (VALOR TOTAL 2019-2024):\n",
            "    1. China: US$ 507,178,095,899\n",
            "    2. Estados Unidos: US$ 197,053,957,653\n",
            "    3. Argentina: US$ 75,993,183,435\n",
            "    4. Países Baixos (Holanda): US$ 58,976,545,576\n",
            "    5. Espanha: US$ 41,108,766,584\n",
            "    6. Chile: US$ 39,728,054,760\n",
            "    7. México: US$ 37,712,962,704\n",
            "    8. Japão: US$ 33,916,330,877\n",
            "    9. Alemanha: US$ 31,660,964,957\n",
            "   10. Canadá: US$ 30,020,353,581\n",
            "\n",
            " TOP 10 PRODUTOS (VALOR TOTAL 2019-2024):\n",
            "    1. Sementes e frutos oleaginosos; grãos, sementes e f...: US$ 192,873,898,950\n",
            "    2. Combustíveis minerais, óleos minerais e produtos d...: US$ 173,741,465,965\n",
            "    3. Minerios, escórias e cinzas: US$ 151,511,435,227\n",
            "    4. Carnes e miudezas, comestíveis: US$ 64,117,619,337\n",
            "    5. Ferro fundido, ferro e aço: US$ 58,625,272,393\n",
            "    6. Reatores nucleares, caldeiras, máquinas, aparelhos...: US$ 43,463,933,350\n",
            "    7. Veículos automóveis, tratores, ciclos e outros veí...: US$ 40,212,968,009\n",
            "    8. Pastas de madeira ou de outras matérias fibrosas c...: US$ 35,171,652,215\n",
            "    9. Café, chá, mate e especiarias: US$ 23,339,493,691\n",
            "   10. Produtos químicos inorgânicos; compostos inorgânic...: US$ 16,809,298,075\n"
          ]
        }
      ]
    },
    {
      "cell_type": "code",
      "source": [
        "# 3. IDENTIFICAÇÃO DE VARIÁVEIS E CORRELAÇÕES\n",
        "# Criar dataset agregado para análise de correlações\n",
        "df_corr = df.groupby(['Ano', 'Pais', 'Produto']).agg({\n",
        "    'Valor_USD': 'sum',\n",
        "    'Peso_kg': 'sum'\n",
        "}).reset_index()"
      ],
      "metadata": {
        "id": "esManJHg3gj8"
      },
      "execution_count": 42,
      "outputs": []
    },
    {
      "cell_type": "code",
      "source": [
        "# Adicionar variáveis derivadas\n",
        "df_corr['Valor_por_kg'] = df_corr['Valor_USD'] / (df_corr['Peso_kg'] + 1)\n",
        "df_corr['Log_Valor'] = np.log1p(df_corr['Valor_USD'])\n",
        "df_corr['Log_Peso'] = np.log1p(df_corr['Peso_kg'])"
      ],
      "metadata": {
        "id": "LqObC0j134NJ"
      },
      "execution_count": 43,
      "outputs": []
    },
    {
      "cell_type": "code",
      "source": [
        "# Matriz de correlação das variáveis numéricas\n",
        "correlacoes = df_corr[['Ano', 'Valor_USD', 'Peso_kg', 'Valor_por_kg', 'Log_Valor', 'Log_Peso']].corr()\n",
        "\n",
        "print(\" MATRIZ DE CORRELAÇÕES:\")\n",
        "print(correlacoes.round(3))"
      ],
      "metadata": {
        "colab": {
          "base_uri": "https://localhost:8080/"
        },
        "id": "hQQcRNMk3-_f",
        "outputId": "930daf89-6b2d-4145-f0bb-677b5434c672",
        "collapsed": true
      },
      "execution_count": 44,
      "outputs": [
        {
          "output_type": "stream",
          "name": "stdout",
          "text": [
            " MATRIZ DE CORRELAÇÕES:\n",
            "                Ano  Valor_USD  Peso_kg  Valor_por_kg  Log_Valor  Log_Peso\n",
            "Ano           1.000      0.022    0.004        -0.008      0.037     0.005\n",
            "Valor_USD     0.022      1.000    0.706        -0.002      0.257     0.252\n",
            "Peso_kg       0.004      0.706    1.000        -0.003      0.135     0.151\n",
            "Valor_por_kg -0.008     -0.002   -0.003         1.000     -0.009    -0.077\n",
            "Log_Valor     0.037      0.257    0.135        -0.009      1.000     0.926\n",
            "Log_Peso      0.005      0.252    0.151        -0.077      0.926     1.000\n"
          ]
        }
      ]
    },
    {
      "cell_type": "code",
      "source": [
        "# Análise de variabilidade por país e produto\n",
        "print(\"\\n VARIABILIDADE POR PAÍS (TOP 5):\")\n",
        "variabilidade_pais = df.groupby('Pais')['Valor_USD'].agg(['std', 'mean']).reset_index()\n",
        "variabilidade_pais['CV'] = variabilidade_pais['std'] / variabilidade_pais['mean']\n",
        "variabilidade_pais = variabilidade_pais.nlargest(5, 'CV')\n",
        "for _, row in variabilidade_pais.iterrows():\n",
        "    print(f\"   {row['Pais']}: CV = {row['CV']:.3f}\")"
      ],
      "metadata": {
        "colab": {
          "base_uri": "https://localhost:8080/"
        },
        "id": "yoF7ju9-4GTs",
        "outputId": "c96c4749-74b6-4abe-b1c3-1d07f3208659",
        "collapsed": true
      },
      "execution_count": 45,
      "outputs": [
        {
          "output_type": "stream",
          "name": "stdout",
          "text": [
            "\n",
            " VARIABILIDADE POR PAÍS (TOP 5):\n",
            "   Espanha: CV = 4.842\n",
            "   China: CV = 4.530\n",
            "   Canadá: CV = 4.147\n",
            "   Chile: CV = 3.874\n",
            "   Alemanha: CV = 3.385\n"
          ]
        }
      ]
    },
    {
      "cell_type": "code",
      "source": [
        "# 4. PREPARAÇÃO PARA MACHINE LEARNING\n",
        "# Dataset para ML\n",
        "df_ml = df.groupby(['Ano', 'Pais', 'Produto']).agg({\n",
        "    'Valor_USD': 'sum',\n",
        "    'Peso_kg': 'sum'\n",
        "}).reset_index()"
      ],
      "metadata": {
        "id": "DF48eMpW4RoG"
      },
      "execution_count": 46,
      "outputs": []
    },
    {
      "cell_type": "code",
      "source": [
        "# Features engineering\n",
        "df_ml['Valor_por_kg'] = df_ml['Valor_USD'] / (df_ml['Peso_kg'] + 1)"
      ],
      "metadata": {
        "id": "ewbqOQzg4Z73"
      },
      "execution_count": 47,
      "outputs": []
    },
    {
      "cell_type": "code",
      "source": [
        "# Encoding de variáveis categóricas\n",
        "le_pais = LabelEncoder()\n",
        "le_produto = LabelEncoder()\n",
        "df_ml['Pais_encoded'] = le_pais.fit_transform(df_ml['Pais'])\n",
        "df_ml['Produto_encoded'] = le_produto.fit_transform(df_ml['Produto'])"
      ],
      "metadata": {
        "id": "4dhHVvFw4iE8"
      },
      "execution_count": 48,
      "outputs": []
    },
    {
      "cell_type": "code",
      "source": [
        "# Criar features de lag temporal\n",
        "df_ml = df_ml.sort_values(['Pais', 'Produto', 'Ano'])\n",
        "df_ml['Valor_lag1'] = df_ml.groupby(['Pais', 'Produto'])['Valor_USD'].shift(1)\n",
        "df_ml['Valor_lag2'] = df_ml.groupby(['Pais', 'Produto'])['Valor_USD'].shift(2)\n",
        "df_ml['Crescimento_pct'] = df_ml.groupby(['Pais', 'Produto'])['Valor_USD'].pct_change()"
      ],
      "metadata": {
        "id": "fSsrU9Dd4luA"
      },
      "execution_count": 49,
      "outputs": []
    },
    {
      "cell_type": "code",
      "source": [
        "# Remover NaN gerados pelos lags\n",
        "df_ml_limpo = df_ml.dropna()\n",
        "\n",
        "print(f\"Dataset ML preparado: {len(df_ml_limpo)} registros para treinamento\")"
      ],
      "metadata": {
        "colab": {
          "base_uri": "https://localhost:8080/"
        },
        "id": "G-dvzPUV4slD",
        "outputId": "62728a3a-2530-457b-823a-6ac85b591b0c",
        "collapsed": true
      },
      "execution_count": 50,
      "outputs": [
        {
          "output_type": "stream",
          "name": "stdout",
          "text": [
            "Dataset ML preparado: 3655 registros para treinamento\n"
          ]
        }
      ]
    },
    {
      "cell_type": "code",
      "source": [
        "# 5. TREINAMENTO DOS MODELOS ML\n",
        "# Definir features e target\n",
        "features = ['Ano', 'Pais_encoded', 'Produto_encoded', 'Peso_kg',\n",
        "           'Valor_por_kg', 'Valor_lag1', 'Valor_lag2', 'Crescimento_pct']\n",
        "X = df_ml_limpo[features]\n",
        "y = df_ml_limpo['Valor_USD']"
      ],
      "metadata": {
        "id": "dZ412GtA407Z"
      },
      "execution_count": 51,
      "outputs": []
    },
    {
      "cell_type": "code",
      "source": [
        "# Divisão treino/teste\n",
        "X_train, X_test, y_train, y_test = train_test_split(X, y, test_size=0.2, random_state=42)"
      ],
      "metadata": {
        "id": "OR27B_XC41-U"
      },
      "execution_count": 52,
      "outputs": []
    },
    {
      "cell_type": "code",
      "source": [
        "# Modelos para testar\n",
        "modelos = {\n",
        "    'Random Forest': RandomForestRegressor(n_estimators=100, random_state=42),\n",
        "    'Gradient Boosting': GradientBoostingRegressor(n_estimators=100, random_state=42),\n",
        "    'Linear Regression': LinearRegression(),\n",
        "    'Decision Tree': DecisionTreeRegressor(random_state=42)\n",
        "}"
      ],
      "metadata": {
        "id": "-L8x6mpg5L68"
      },
      "execution_count": 53,
      "outputs": []
    },
    {
      "cell_type": "code",
      "source": [
        "# Avaliar modelos\n",
        "resultados_ml = {}\n",
        "melhor_modelo = None\n",
        "melhor_r2 = -np.inf"
      ],
      "metadata": {
        "id": "JTIb6r7B5PWt"
      },
      "execution_count": 54,
      "outputs": []
    },
    {
      "cell_type": "code",
      "source": [
        "for nome, modelo in modelos.items():\n",
        "    # Treinar modelo\n",
        "    if nome == 'Linear Regression':\n",
        "        scaler = StandardScaler()\n",
        "        X_train_scaled = scaler.fit_transform(X_train)\n",
        "        X_test_scaled = scaler.transform(X_test)\n",
        "        modelo.fit(X_train_scaled, y_train)\n",
        "        y_pred = modelo.predict(X_test_scaled)\n",
        "    else:\n",
        "        modelo.fit(X_train, y_train)\n",
        "        y_pred = modelo.predict(X_test)"
      ],
      "metadata": {
        "id": "PygGKFgY5V5t"
      },
      "execution_count": 55,
      "outputs": []
    },
    {
      "cell_type": "code",
      "source": [
        "# Métricas\n",
        "r2 = r2_score(y_test, y_pred)\n",
        "mae = mean_absolute_error(y_test, y_pred)\n",
        "\n",
        "resultados_ml[nome] = {'R2': r2, 'MAE': mae}\n",
        "\n",
        "print(f\"{nome}: R² = {r2:.4f}, MAE = US$ {mae:,.0f}\")"
      ],
      "metadata": {
        "colab": {
          "base_uri": "https://localhost:8080/"
        },
        "id": "WKzk2fYL5cjc",
        "outputId": "6c876189-24f7-4d50-d51c-1d54c81885bb",
        "collapsed": true
      },
      "execution_count": 56,
      "outputs": [
        {
          "output_type": "stream",
          "name": "stdout",
          "text": [
            "Decision Tree: R² = 0.9763, MAE = US$ 26,523,218\n"
          ]
        }
      ]
    },
    {
      "cell_type": "code",
      "source": [
        "# Guardar melhor modelo\n",
        "if r2 > melhor_r2:\n",
        "  melhor_r2 = r2\n",
        "  melhor_modelo = modelo\n",
        "  melhor_nome = nome\n",
        "  if nome == 'Linear Regression':\n",
        "    melhor_scaler = scaler\n",
        "\n",
        "print(f\"\\n Melhor modelo: {melhor_nome} (R² = {melhor_r2:.4f})\")"
      ],
      "metadata": {
        "colab": {
          "base_uri": "https://localhost:8080/"
        },
        "id": "7EG2SvtQ5dBZ",
        "outputId": "7d4a2bf6-8426-46dc-dc9e-16bb5b0b4029",
        "collapsed": true
      },
      "execution_count": 57,
      "outputs": [
        {
          "output_type": "stream",
          "name": "stdout",
          "text": [
            "\n",
            " Melhor modelo: Decision Tree (R² = 0.9763)\n"
          ]
        }
      ]
    },
    {
      "cell_type": "code",
      "source": [
        "# 6. PREVISÕES PARA 2026\n",
        "# Preparar dados base para previsão (usando 2024 como referência)\n",
        "dados_2024 = df_ml_limpo[df_ml_limpo['Ano'] == 2024].copy()"
      ],
      "metadata": {
        "id": "mPF_EkfI6PDk"
      },
      "execution_count": 58,
      "outputs": []
    },
    {
      "cell_type": "code",
      "source": [
        "# Criar dataset para 2026\n",
        "dados_2026 = dados_2024.copy()\n",
        "dados_2026['Ano'] = 2026\n",
        "dados_2026['Valor_lag2'] = dados_2026['Valor_lag1']\n",
        "dados_2026['Valor_lag1'] = dados_2026['Valor_USD']"
      ],
      "metadata": {
        "id": "KCnVbdhw6Yzg"
      },
      "execution_count": 59,
      "outputs": []
    },
    {
      "cell_type": "code",
      "source": [
        "# Estimar crescimento médio por combinação país-produto\n",
        "crescimento_medio = df_ml_limpo.groupby(['Pais', 'Produto'])['Crescimento_pct'].mean().reset_index()\n",
        "dados_2026 = dados_2026.merge(crescimento_medio, on=['Pais', 'Produto'], how='left', suffixes=('', '_medio'))\n",
        "dados_2026['Crescimento_pct'] = dados_2026['Crescimento_pct_medio'].fillna(dados_2026['Crescimento_pct'])\n",
        "dados_2026.drop('Crescimento_pct_medio', axis=1, inplace=True)"
      ],
      "metadata": {
        "id": "ZBuJ5L156hYt"
      },
      "execution_count": 60,
      "outputs": []
    },
    {
      "cell_type": "code",
      "source": [
        "# Fazer previsões\n",
        "X_2026 = dados_2026[features]"
      ],
      "metadata": {
        "id": "nEYWzS6M6nPa"
      },
      "execution_count": 61,
      "outputs": []
    },
    {
      "cell_type": "code",
      "source": [
        "if melhor_nome == 'Linear Regression':\n",
        "    X_2026_scaled = melhor_scaler.transform(X_2026)\n",
        "    previsoes_2026 = melhor_modelo.predict(X_2026_scaled)\n",
        "else:\n",
        "    previsoes_2026 = melhor_modelo.predict(X_2026)\n",
        "\n",
        "dados_2026['Valor_Previsto_2026'] = previsoes_2026\n",
        "\n",
        "print(f\" Previsões geradas para {len(dados_2026)} combinações país-produto\")"
      ],
      "metadata": {
        "colab": {
          "base_uri": "https://localhost:8080/"
        },
        "id": "7fM32mWZ6q5A",
        "outputId": "b1cabb2e-8032-49b4-e275-4c558f9292c0",
        "collapsed": true
      },
      "execution_count": 62,
      "outputs": [
        {
          "output_type": "stream",
          "name": "stdout",
          "text": [
            " Previsões geradas para 923 combinações país-produto\n"
          ]
        }
      ]
    },
    {
      "cell_type": "code",
      "source": [
        "# 7. DATASETS PARA LOOKER STUDIO\n",
        "# Dataset 1: Dados históricos (2019-2024) - Para gráficos históricos\n",
        "df_historico = df.copy()\n",
        "df_historico['Tipo'] = 'Histórico'\n",
        "df_historico.rename(columns={'Valor_USD': 'Valor'}, inplace=True)"
      ],
      "metadata": {
        "id": "dd0EOhud60bY"
      },
      "execution_count": 63,
      "outputs": []
    },
    {
      "cell_type": "code",
      "source": [
        "# Dataset 2: Dados com previsões (2024 + 2026) - Para comparações\n",
        "df_previsoes = dados_2026[['Pais', 'Produto', 'Valor_USD', 'Valor_Previsto_2026']].copy()\n",
        "df_previsoes.rename(columns={'Valor_USD': 'Valor_2024', 'Valor_Previsto_2026': 'Valor_2026'}, inplace=True)"
      ],
      "metadata": {
        "id": "aFYCElun682q"
      },
      "execution_count": 64,
      "outputs": []
    },
    {
      "cell_type": "code",
      "source": [
        "# Calcular crescimento percentual por país\n",
        "crescimento_pais = df_previsoes.groupby('Pais').agg({\n",
        "    'Valor_2024': 'sum',\n",
        "    'Valor_2026': 'sum'\n",
        "}).reset_index()\n",
        "crescimento_pais['Crescimento_Percentual'] = ((crescimento_pais['Valor_2026'] - crescimento_pais['Valor_2024']) / crescimento_pais['Valor_2024'] * 100)"
      ],
      "metadata": {
        "id": "Wagxxx-67JpH"
      },
      "execution_count": 65,
      "outputs": []
    },
    {
      "cell_type": "code",
      "source": [
        "# Dataset 3: Evolução com previsão - Para gráfico temporal\n",
        "evolucao_completa = []"
      ],
      "metadata": {
        "id": "IFXd2Lk37YkB"
      },
      "execution_count": 66,
      "outputs": []
    },
    {
      "cell_type": "code",
      "source": [
        "# Dados históricos\n",
        "for ano in range(2019, 2025):\n",
        "    valor_ano = df[df['Ano'] == ano]['Valor_USD'].sum()\n",
        "    evolucao_completa.append({\n",
        "        'Ano': ano,\n",
        "        'Valor_Total': valor_ano,\n",
        "        'Tipo': 'Histórico'\n",
        "    })"
      ],
      "metadata": {
        "id": "FJ6-L4ZW7eDj"
      },
      "execution_count": 67,
      "outputs": []
    },
    {
      "cell_type": "code",
      "source": [
        "# Previsão 2026\n",
        "valor_2026 = df_previsoes['Valor_2026'].sum()\n",
        "evolucao_completa.append({\n",
        "    'Ano': 2026,\n",
        "    'Valor_Total': valor_2026,\n",
        "    'Tipo': 'Previsão'\n",
        "})\n",
        "\n",
        "df_evolucao = pd.DataFrame(evolucao_completa)"
      ],
      "metadata": {
        "id": "NOV8yqEt7jZ6"
      },
      "execution_count": 68,
      "outputs": []
    },
    {
      "cell_type": "code",
      "source": [
        "# 8. EXPORTAR DADOS PARA LOOKER STUDIO\n",
        "# Salvar datasets\n",
        "df_historico.to_csv('dados_historicos_looker.csv', index=False, encoding='utf-8')\n",
        "crescimento_pais.to_csv('crescimento_paises_2026.csv', index=False, encoding='utf-8')\n",
        "df_evolucao.to_csv('evolucao_temporal_completa.csv', index=False, encoding='utf-8')\n",
        "df_previsoes.to_csv('comparacao_2024_2026.csv', index=False, encoding='utf-8')\n",
        "\n",
        "print(\"       Arquivos exportados:\")\n",
        "print(\"       dados_historicos_looker.csv\")\n",
        "print(\"       crescimento_paises_2026.csv\")\n",
        "print(\"       evolucao_temporal_completa.csv\")\n",
        "print(\"       comparacao_2024_2026.csv\")"
      ],
      "metadata": {
        "colab": {
          "base_uri": "https://localhost:8080/"
        },
        "id": "cXQh2gYP748U",
        "outputId": "d6ead932-3a04-4857-8a86-12590f22d60b",
        "collapsed": true
      },
      "execution_count": 69,
      "outputs": [
        {
          "output_type": "stream",
          "name": "stdout",
          "text": [
            "       Arquivos exportados:\n",
            "       dados_historicos_looker.csv\n",
            "       crescimento_paises_2026.csv\n",
            "       evolucao_temporal_completa.csv\n",
            "       comparacao_2024_2026.csv\n"
          ]
        }
      ]
    },
    {
      "cell_type": "code",
      "source": [
        "# 9. RESUMO EXECUTIVO DA ANÁLISE\n",
        "print(f\"\\n   DADOS PROCESSADOS:\")\n",
        "print(f\"   • Registros originais: {len(df_exportacao):,}\")\n",
        "print(f\"   • Registros após limpeza: {len(df):,}\")\n",
        "print(f\"   • Período analisado: {df['Ano'].min()}-{df['Ano'].max()}\")\n",
        "print(f\"   • Países únicos: {df['Pais'].nunique()}\")\n",
        "print(f\"   • Produtos únicos: {df['Produto'].nunique()}\")\n",
        "\n",
        "print(f\"\\n   ANÁLISE FINANCEIRA:\")\n",
        "total_periodo = df['Valor_USD'].sum()\n",
        "print(f\"   • Valor total exportado (2019-2024): US$ {total_periodo:,.0f}\")\n",
        "print(f\"   • Valor médio anual: US$ {total_periodo/6:,.0f}\")\n",
        "print(f\"   • Maior ano: {evolucao_anual.idxmax()} (US$ {evolucao_anual.max():,.0f})\")\n",
        "\n",
        "print(f\"\\n   MACHINE LEARNING:\")\n",
        "print(f\"   • Melhor modelo: {melhor_nome}\")\n",
        "print(f\"   • Precisão (R²): {melhor_r2:.4f}\")\n",
        "print(f\"   • Registros de treinamento: {len(df_ml_limpo):,}\")\n",
        "\n",
        "print(f\"\\n   PREVISÕES 2026:\")\n",
        "total_2024 = crescimento_pais['Valor_2024'].sum()\n",
        "total_2026 = crescimento_pais['Valor_2026'].sum()\n",
        "crescimento_total = ((total_2026 - total_2024) / total_2024) * 100\n",
        "print(f\"   • Total previsto 2026: US$ {total_2026:,.0f}\")\n",
        "print(f\"   • Crescimento esperado: {crescimento_total:+.2f}%\")"
      ],
      "metadata": {
        "colab": {
          "base_uri": "https://localhost:8080/"
        },
        "id": "y3Rh0Vrm8dVy",
        "outputId": "a1435d4b-2e2d-43ce-93af-5f9b7f6a4ae0",
        "collapsed": true
      },
      "execution_count": 70,
      "outputs": [
        {
          "output_type": "stream",
          "name": "stdout",
          "text": [
            "\n",
            "   DADOS PROCESSADOS:\n",
            "   • Registros originais: 5,566\n",
            "   • Registros após limpeza: 5,566\n",
            "   • Período analisado: 2019-2024\n",
            "   • Países únicos: 10\n",
            "   • Produtos únicos: 97\n",
            "\n",
            "   ANÁLISE FINANCEIRA:\n",
            "   • Valor total exportado (2019-2024): US$ 1,053,349,216,026\n",
            "   • Valor médio anual: US$ 175,558,202,671\n",
            "   • Maior ano: 2023 (US$ 212,515,398,380)\n",
            "\n",
            "   MACHINE LEARNING:\n",
            "   • Melhor modelo: Decision Tree\n",
            "   • Precisão (R²): 0.9763\n",
            "   • Registros de treinamento: 3,655\n",
            "\n",
            "   PREVISÕES 2026:\n",
            "   • Total previsto 2026: US$ 237,020,592,395\n",
            "   • Crescimento esperado: +17.10%\n"
          ]
        }
      ]
    },
    {
      "cell_type": "code",
      "source": [
        "# Top 5 países com maior crescimento percentual\n",
        "top_5_crescimento = crescimento_pais.nlargest(5, 'Crescimento_Percentual')\n",
        "print(f\"\\n  TOP 5 PAÍSES COM MAIOR CRESCIMENTO PREVISTO:\")\n",
        "for i, row in enumerate(top_5_crescimento.iterrows(), 1):\n",
        "    _, data = row\n",
        "    print(f\"   {i}. {data['Pais']}: {data['Crescimento_Percentual']:+.1f}%\")\n",
        "\n",
        "print(f\"\\n PRONTO PARA LOOKER STUDIO:\")\n",
        "print(\"    4 arquivos CSV exportados\")\n",
        "print(\"    Dados limpos e estruturados\")\n",
        "print(\"    Previsões ML incluídas\")\n",
        "print(\"    Métricas de crescimento calculadas\")\n",
        "\n",
        "print(\"\\n PRÓXIMOS PASSOS:\")\n",
        "print(\"   1. Importar os CSVs no Looker Studio\")\n",
        "print(\"   2. Criar os dashboards conforme planejado\")\n",
        "print(\"   3. Configurar filtros interativos\")\n",
        "print(\"   4. Aplicar formatação e cores\")\n",
        "\n",
        "print(\"\\n\" + \"=\"*60)"
      ],
      "metadata": {
        "colab": {
          "base_uri": "https://localhost:8080/"
        },
        "id": "eI-SKknV8lgO",
        "outputId": "35106f60-6ef6-4f63-ca35-fa3e445fb995",
        "collapsed": true
      },
      "execution_count": 71,
      "outputs": [
        {
          "output_type": "stream",
          "name": "stdout",
          "text": [
            "\n",
            "  TOP 5 PAÍSES COM MAIOR CRESCIMENTO PREVISTO:\n",
            "   1. Argentina: +60.3%\n",
            "   2. Países Baixos (Holanda): +37.3%\n",
            "   3. México: +37.0%\n",
            "   4. Japão: +30.2%\n",
            "   5. Estados Unidos: +20.4%\n",
            "\n",
            " PRONTO PARA LOOKER STUDIO:\n",
            "    4 arquivos CSV exportados\n",
            "    Dados limpos e estruturados\n",
            "    Previsões ML incluídas\n",
            "    Métricas de crescimento calculadas\n",
            "\n",
            " PRÓXIMOS PASSOS:\n",
            "   1. Importar os CSVs no Looker Studio\n",
            "   2. Criar os dashboards conforme planejado\n",
            "   3. Configurar filtros interativos\n",
            "   4. Aplicar formatação e cores\n",
            "\n",
            "============================================================\n"
          ]
        }
      ]
    }
  ]
}